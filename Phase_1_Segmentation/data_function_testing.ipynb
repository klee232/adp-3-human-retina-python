{
 "cells": [
  {
   "cell_type": "code",
   "execution_count": 1,
   "id": "accfb190-04dd-409e-9a14-d8fcaafc6643",
   "metadata": {},
   "outputs": [],
   "source": [
    "import sys\n",
    "sys.path.append(r\"C:\\Users\\klee232\\Desktop\\Thesis\\personal-GitHub\\adp-3-human-retina-python\\Phase_1_Segmentation\")"
   ]
  },
  {
   "cell_type": "code",
   "execution_count": 2,
   "id": "c06c2cd7-8c2b-43d3-bfc4-2b0a5276d26c",
   "metadata": {},
   "outputs": [],
   "source": [
    "# import all functions needed tested\n",
    "from data_function_2D import *"
   ]
  },
  {
   "cell_type": "code",
   "execution_count": null,
   "id": "804bdc93-0c71-4f79-8ad6-949019793e7a",
   "metadata": {},
   "outputs": [],
   "source": [
    "load_rose_1_dataset()"
   ]
  },
  {
   "cell_type": "code",
   "execution_count": 1,
   "id": "ed90be86-be00-4c7e-a782-9864c68b7a96",
   "metadata": {},
   "outputs": [
    {
     "name": "stdout",
     "output_type": "stream",
     "text": [
      "Shape: (304, 304)\n",
      "Dtype: uint8\n",
      "Photometric: 1\n",
      "Compression: 1\n",
      "Bits per sample: 8\n",
      "Description: \n"
     ]
    }
   ],
   "source": [
    "from pathlib import Path\n",
    "import imageio.v3 as iio\n",
    "from PIL import Image\n",
    "import numpy as np\n",
    "import tifffile\n",
    "current_code_path = Path().resolve().parent\n",
    "base_dir = current_code_path.parent / 'adp-3-human-retina-python' / 'Phase_1_Segmentation' / 'rose_dataset' / 'ROSE-1'\n",
    "image_parent_dir = base_dir\n",
    "SVC_dir = image_parent_dir / 'SVC'\n",
    "train_img_SVC_dir = SVC_dir / 'train' / 'thick_gt_converted'\n",
    "\n",
    "path = train_img_SVC_dir / '01.tif'\n",
    "path = str(path)\n",
    "with tifffile.TiffFile(path) as tif:\n",
    "    page = tif.pages[0]\n",
    "    print(\"Shape:\", page.shape)\n",
    "    print(\"Dtype:\", page.dtype)\n",
    "    print(\"Photometric:\", page.photometric)\n",
    "    print(\"Compression:\", page.compression)\n",
    "    print(\"Bits per sample:\", page.bitspersample)\n",
    "    print(\"Description:\", page.description)"
   ]
  },
  {
   "cell_type": "code",
   "execution_count": 2,
   "id": "97bb2c4a-6309-43f0-975d-7b90b2b11707",
   "metadata": {},
   "outputs": [
    {
     "name": "stdout",
     "output_type": "stream",
     "text": [
      "Shape: (304, 304)\n",
      "Dtype: uint8\n",
      "Photometric: 1\n",
      "Compression: 5\n",
      "Bits per sample: 8\n",
      "Description: \n"
     ]
    }
   ],
   "source": [
    "from pathlib import Path\n",
    "import imageio.v3 as iio\n",
    "from PIL import Image\n",
    "import numpy as np\n",
    "import tifffile\n",
    "current_code_path = Path().resolve().parent\n",
    "base_dir = current_code_path.parent / 'adp-3-human-retina-python' / 'Phase_1_Segmentation' / 'rose_dataset' / 'ROSE-1'\n",
    "image_parent_dir = base_dir\n",
    "SVC_dir = image_parent_dir / 'SVC' \n",
    "train_img_SVC_dir = SVC_dir / 'train' / 'thin_gt'\n",
    "\n",
    "path = train_img_SVC_dir / '01.tif'\n",
    "path = str(path)\n",
    "with tifffile.TiffFile(path) as tif:\n",
    "    page = tif.pages[0]\n",
    "    print(\"Shape:\", page.shape)\n",
    "    print(\"Dtype:\", page.dtype)\n",
    "    print(\"Photometric:\", page.photometric)\n",
    "    print(\"Compression:\", page.compression)\n",
    "    print(\"Bits per sample:\", page.bitspersample)\n",
    "    print(\"Description:\", page.description)"
   ]
  },
  {
   "cell_type": "code",
   "execution_count": 11,
   "id": "b242f439-0829-4cb3-90df-cb696aecffb8",
   "metadata": {},
   "outputs": [
    {
     "name": "stdout",
     "output_type": "stream",
     "text": [
      "Shape: (304, 304)\n",
      "Dtype: uint8\n",
      "Photometric: 1\n",
      "Compression: 32773\n",
      "Bits per sample: 8\n",
      "Description: \n"
     ]
    }
   ],
   "source": [
    "from pathlib import Path\n",
    "import imageio.v3 as iio\n",
    "from PIL import Image\n",
    "import numpy as np\n",
    "import tifffile\n",
    "current_code_path = Path().resolve().parent\n",
    "base_dir = current_code_path.parent / 'adp-3-human-retina-python' / 'Phase_1_Segmentation' / 'rose_dataset' / 'ROSE-O'\n",
    "image_parent_dir = base_dir\n",
    "SVC_dir = image_parent_dir\n",
    "train_img_SVC_dir = SVC_dir / 'train' / 'img' / 'SVC'\n",
    "\n",
    "path = train_img_SVC_dir / '01.tif'\n",
    "path = str(path)\n",
    "with tifffile.TiffFile(path) as tif:\n",
    "    page = tif.pages[0]\n",
    "    print(\"Shape:\", page.shape)\n",
    "    print(\"Dtype:\", page.dtype)\n",
    "    print(\"Photometric:\", page.photometric)\n",
    "    print(\"Compression:\", page.compression)\n",
    "    print(\"Bits per sample:\", page.bitspersample)\n",
    "    print(\"Description:\", page.description)"
   ]
  },
  {
   "cell_type": "code",
   "execution_count": 15,
   "id": "eaa9655e-dd80-4ce4-aae7-01be97344ab8",
   "metadata": {},
   "outputs": [
    {
     "name": "stdout",
     "output_type": "stream",
     "text": [
      "Shape: (304, 304)\n",
      "Dtype: uint8\n",
      "Photometric: 1\n",
      "Compression: 32773\n",
      "Bits per sample: 8\n",
      "Description: \n"
     ]
    }
   ],
   "source": [
    "from pathlib import Path\n",
    "import imageio.v3 as iio\n",
    "from PIL import Image\n",
    "import numpy as np\n",
    "import tifffile\n",
    "current_code_path = Path().resolve().parent\n",
    "base_dir = current_code_path.parent / 'adp-3-human-retina-python' / 'Phase_1_Segmentation' / 'rose_dataset' / 'ROSE-O'\n",
    "image_parent_dir = base_dir\n",
    "SVC_dir = image_parent_dir\n",
    "train_img_SVC_dir = SVC_dir / 'train' / 'img' / 'DVC'\n",
    "\n",
    "path = train_img_SVC_dir / '01.tif'\n",
    "path = str(path)\n",
    "with tifffile.TiffFile(path) as tif:\n",
    "    page = tif.pages[0]\n",
    "    print(\"Shape:\", page.shape)\n",
    "    print(\"Dtype:\", page.dtype)\n",
    "    print(\"Photometric:\", page.photometric)\n",
    "    print(\"Compression:\", page.compression)\n",
    "    print(\"Bits per sample:\", page.bitspersample)\n",
    "    print(\"Description:\", page.description)"
   ]
  },
  {
   "cell_type": "code",
   "execution_count": 17,
   "id": "fbb4d737-a916-4f55-987d-263b7ea89dc1",
   "metadata": {},
   "outputs": [
    {
     "name": "stdout",
     "output_type": "stream",
     "text": [
      "Shape: (304, 304, 3)\n",
      "Dtype: uint8\n",
      "Photometric: 2\n",
      "Compression: 5\n",
      "Bits per sample: 8\n",
      "Description: \n"
     ]
    }
   ],
   "source": [
    "from pathlib import Path\n",
    "import imageio.v3 as iio\n",
    "from PIL import Image\n",
    "import numpy as np\n",
    "import tifffile\n",
    "current_code_path = Path().resolve().parent\n",
    "base_dir = current_code_path.parent / 'adp-3-human-retina-python' / 'Phase_1_Segmentation' / 'rose_dataset' / 'ROSE-O'\n",
    "image_parent_dir = base_dir\n",
    "SVC_dir = image_parent_dir\n",
    "train_img_SVC_dir = SVC_dir / 'train' / 'gt' / 'junctions'\n",
    "\n",
    "path = train_img_SVC_dir / '01.tif'\n",
    "path = str(path)\n",
    "with tifffile.TiffFile(path) as tif:\n",
    "    page = tif.pages[0]\n",
    "    print(\"Shape:\", page.shape)\n",
    "    print(\"Dtype:\", page.dtype)\n",
    "    print(\"Photometric:\", page.photometric)\n",
    "    print(\"Compression:\", page.compression)\n",
    "    print(\"Bits per sample:\", page.bitspersample)\n",
    "    print(\"Description:\", page.description)"
   ]
  },
  {
   "cell_type": "code",
   "execution_count": null,
   "id": "297b7206-7305-41ec-ac67-e77bed8e0ba9",
   "metadata": {},
   "outputs": [],
   "source": []
  }
 ],
 "metadata": {
  "kernelspec": {
   "display_name": "Python 3 (ipykernel)",
   "language": "python",
   "name": "python3"
  },
  "language_info": {
   "codemirror_mode": {
    "name": "ipython",
    "version": 3
   },
   "file_extension": ".py",
   "mimetype": "text/x-python",
   "name": "python",
   "nbconvert_exporter": "python",
   "pygments_lexer": "ipython3",
   "version": "3.13.5"
  }
 },
 "nbformat": 4,
 "nbformat_minor": 5
}
