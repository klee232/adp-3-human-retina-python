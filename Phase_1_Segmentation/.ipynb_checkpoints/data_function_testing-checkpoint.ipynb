{
 "cells": [
  {
   "cell_type": "code",
   "execution_count": 1,
   "id": "accfb190-04dd-409e-9a14-d8fcaafc6643",
   "metadata": {},
   "outputs": [],
   "source": [
    "import sys\n",
    "sys.path.append(r\"C:\\Users\\klee232\\Desktop\\Thesis\\personal-GitHub\\adp-3-human-retina-python\\Phase_1_Segmentation\")"
   ]
  },
  {
   "cell_type": "code",
   "execution_count": 2,
   "id": "c06c2cd7-8c2b-43d3-bfc4-2b0a5276d26c",
   "metadata": {},
   "outputs": [],
   "source": [
    "# import all functions needed tested\n",
    "from data_function_2D import *"
   ]
  },
  {
   "cell_type": "code",
   "execution_count": 4,
   "id": "014d76c0-fac9-454b-83cf-eb0ab12083be",
   "metadata": {},
   "outputs": [
    {
     "ename": "OSError",
     "evalue": "cannot load library 'libvips-42.dll': error 0x7e.  Additionally, ctypes.util.find_library() did not manage to locate a library called 'libvips-42.dll'",
     "output_type": "error",
     "traceback": [
      "\u001b[1;31m---------------------------------------------------------------------------\u001b[0m",
      "\u001b[1;31mModuleNotFoundError\u001b[0m                       Traceback (most recent call last)",
      "File \u001b[1;32m~\\AppData\\Local\\anaconda3\\Lib\\site-packages\\pyvips\\__init__.py:30\u001b[0m\n\u001b[0;32m     29\u001b[0m \u001b[38;5;28;01mtry\u001b[39;00m:\n\u001b[1;32m---> 30\u001b[0m     \u001b[38;5;28;01mimport\u001b[39;00m\u001b[38;5;250m \u001b[39m\u001b[38;5;21;01m_libvips\u001b[39;00m\n\u001b[0;32m     32\u001b[0m     logger\u001b[38;5;241m.\u001b[39mdebug(\u001b[38;5;124m'\u001b[39m\u001b[38;5;124mLoaded binary module _libvips\u001b[39m\u001b[38;5;124m'\u001b[39m)\n",
      "\u001b[1;31mModuleNotFoundError\u001b[0m: No module named '_libvips'",
      "\nDuring handling of the above exception, another exception occurred:\n",
      "\u001b[1;31mOSError\u001b[0m                                   Traceback (most recent call last)",
      "Cell \u001b[1;32mIn[4], line 1\u001b[0m\n\u001b[1;32m----> 1\u001b[0m \u001b[38;5;28;01mimport\u001b[39;00m\u001b[38;5;250m \u001b[39m\u001b[38;5;21;01mpyvips\u001b[39;00m\n\u001b[0;32m      2\u001b[0m \u001b[38;5;28mprint\u001b[39m(\u001b[38;5;124m\"\u001b[39m\u001b[38;5;124mpyvips:\u001b[39m\u001b[38;5;124m\"\u001b[39m,pyvips\u001b[38;5;241m.\u001b[39mversion(\u001b[38;5;241m0\u001b[39m))\n",
      "File \u001b[1;32m~\\AppData\\Local\\anaconda3\\Lib\\site-packages\\pyvips\\__init__.py:62\u001b[0m\n\u001b[0;32m     58\u001b[0m \u001b[38;5;28;01mfrom\u001b[39;00m\u001b[38;5;250m \u001b[39m\u001b[38;5;21;01mcffi\u001b[39;00m\u001b[38;5;250m \u001b[39m\u001b[38;5;28;01mimport\u001b[39;00m FFI\n\u001b[0;32m     60\u001b[0m ffi \u001b[38;5;241m=\u001b[39m FFI()\n\u001b[1;32m---> 62\u001b[0m vips_lib \u001b[38;5;241m=\u001b[39m ffi\u001b[38;5;241m.\u001b[39mdlopen(library_name(\u001b[38;5;124m'\u001b[39m\u001b[38;5;124mvips\u001b[39m\u001b[38;5;124m'\u001b[39m, \u001b[38;5;241m42\u001b[39m))\n\u001b[0;32m     63\u001b[0m glib_lib \u001b[38;5;241m=\u001b[39m vips_lib\n\u001b[0;32m     64\u001b[0m gobject_lib \u001b[38;5;241m=\u001b[39m vips_lib\n",
      "File \u001b[1;32m~\\AppData\\Local\\anaconda3\\Lib\\site-packages\\cffi\\api.py:150\u001b[0m, in \u001b[0;36mFFI.dlopen\u001b[1;34m(self, name, flags)\u001b[0m\n\u001b[0;32m    147\u001b[0m     \u001b[38;5;28;01mraise\u001b[39;00m \u001b[38;5;167;01mTypeError\u001b[39;00m(\u001b[38;5;124m\"\u001b[39m\u001b[38;5;124mdlopen(name): name must be a file name, None, \u001b[39m\u001b[38;5;124m\"\u001b[39m\n\u001b[0;32m    148\u001b[0m                     \u001b[38;5;124m\"\u001b[39m\u001b[38;5;124mor an already-opened \u001b[39m\u001b[38;5;124m'\u001b[39m\u001b[38;5;124mvoid *\u001b[39m\u001b[38;5;124m'\u001b[39m\u001b[38;5;124m handle\u001b[39m\u001b[38;5;124m\"\u001b[39m)\n\u001b[0;32m    149\u001b[0m \u001b[38;5;28;01mwith\u001b[39;00m \u001b[38;5;28mself\u001b[39m\u001b[38;5;241m.\u001b[39m_lock:\n\u001b[1;32m--> 150\u001b[0m     lib, function_cache \u001b[38;5;241m=\u001b[39m _make_ffi_library(\u001b[38;5;28mself\u001b[39m, name, flags)\n\u001b[0;32m    151\u001b[0m     \u001b[38;5;28mself\u001b[39m\u001b[38;5;241m.\u001b[39m_function_caches\u001b[38;5;241m.\u001b[39mappend(function_cache)\n\u001b[0;32m    152\u001b[0m     \u001b[38;5;28mself\u001b[39m\u001b[38;5;241m.\u001b[39m_libraries\u001b[38;5;241m.\u001b[39mappend(lib)\n",
      "File \u001b[1;32m~\\AppData\\Local\\anaconda3\\Lib\\site-packages\\cffi\\api.py:834\u001b[0m, in \u001b[0;36m_make_ffi_library\u001b[1;34m(ffi, libname, flags)\u001b[0m\n\u001b[0;32m    832\u001b[0m \u001b[38;5;28;01mdef\u001b[39;00m\u001b[38;5;250m \u001b[39m\u001b[38;5;21m_make_ffi_library\u001b[39m(ffi, libname, flags):\n\u001b[0;32m    833\u001b[0m     backend \u001b[38;5;241m=\u001b[39m ffi\u001b[38;5;241m.\u001b[39m_backend\n\u001b[1;32m--> 834\u001b[0m     backendlib \u001b[38;5;241m=\u001b[39m _load_backend_lib(backend, libname, flags)\n\u001b[0;32m    835\u001b[0m     \u001b[38;5;66;03m#\u001b[39;00m\n\u001b[0;32m    836\u001b[0m     \u001b[38;5;28;01mdef\u001b[39;00m\u001b[38;5;250m \u001b[39m\u001b[38;5;21maccessor_function\u001b[39m(name):\n",
      "File \u001b[1;32m~\\AppData\\Local\\anaconda3\\Lib\\site-packages\\cffi\\api.py:829\u001b[0m, in \u001b[0;36m_load_backend_lib\u001b[1;34m(backend, name, flags)\u001b[0m\n\u001b[0;32m    827\u001b[0m     \u001b[38;5;28;01mif\u001b[39;00m first_error \u001b[38;5;129;01mis\u001b[39;00m \u001b[38;5;129;01mnot\u001b[39;00m \u001b[38;5;28;01mNone\u001b[39;00m:\n\u001b[0;32m    828\u001b[0m         msg \u001b[38;5;241m=\u001b[39m \u001b[38;5;124m\"\u001b[39m\u001b[38;5;132;01m%s\u001b[39;00m\u001b[38;5;124m.  Additionally, \u001b[39m\u001b[38;5;132;01m%s\u001b[39;00m\u001b[38;5;124m\"\u001b[39m \u001b[38;5;241m%\u001b[39m (first_error, msg)\n\u001b[1;32m--> 829\u001b[0m     \u001b[38;5;28;01mraise\u001b[39;00m \u001b[38;5;167;01mOSError\u001b[39;00m(msg)\n\u001b[0;32m    830\u001b[0m \u001b[38;5;28;01mreturn\u001b[39;00m backend\u001b[38;5;241m.\u001b[39mload_library(path, flags)\n",
      "\u001b[1;31mOSError\u001b[0m: cannot load library 'libvips-42.dll': error 0x7e.  Additionally, ctypes.util.find_library() did not manage to locate a library called 'libvips-42.dll'"
     ]
    }
   ],
   "source": [
    "import pyvips\n",
    "print(\"pyvips:\",pyvips.version(0))"
   ]
  },
  {
   "cell_type": "code",
   "execution_count": 3,
   "id": "804bdc93-0c71-4f79-8ad6-949019793e7a",
   "metadata": {},
   "outputs": [
    {
     "ename": "OSError",
     "evalue": "cannot load library 'libvips-42.dll': error 0x7e.  Additionally, ctypes.util.find_library() did not manage to locate a library called 'libvips-42.dll'",
     "output_type": "error",
     "traceback": [
      "\u001b[1;31m---------------------------------------------------------------------------\u001b[0m",
      "\u001b[1;31mModuleNotFoundError\u001b[0m                       Traceback (most recent call last)",
      "File \u001b[1;32m~\\AppData\\Local\\anaconda3\\Lib\\site-packages\\pyvips\\__init__.py:30\u001b[0m\n\u001b[0;32m     29\u001b[0m \u001b[38;5;28;01mtry\u001b[39;00m:\n\u001b[1;32m---> 30\u001b[0m     \u001b[38;5;28;01mimport\u001b[39;00m\u001b[38;5;250m \u001b[39m\u001b[38;5;21;01m_libvips\u001b[39;00m\n\u001b[0;32m     32\u001b[0m     logger\u001b[38;5;241m.\u001b[39mdebug(\u001b[38;5;124m'\u001b[39m\u001b[38;5;124mLoaded binary module _libvips\u001b[39m\u001b[38;5;124m'\u001b[39m)\n",
      "\u001b[1;31mModuleNotFoundError\u001b[0m: No module named '_libvips'",
      "\nDuring handling of the above exception, another exception occurred:\n",
      "\u001b[1;31mOSError\u001b[0m                                   Traceback (most recent call last)",
      "Cell \u001b[1;32mIn[3], line 1\u001b[0m\n\u001b[1;32m----> 1\u001b[0m load_rose_1_dataset()\n",
      "File \u001b[1;32m~\\Desktop\\Thesis\\personal-GitHub\\adp-3-human-retina-python\\Phase_1_Segmentation\\data_function_2D\\data_rose_1_loader.py:78\u001b[0m, in \u001b[0;36mload_rose_1_dataset\u001b[1;34m(base_dir)\u001b[0m\n\u001b[0;32m     76\u001b[0m \u001b[38;5;66;03m# train SVC thick vessel groundtruth\u001b[39;00m\n\u001b[0;32m     77\u001b[0m train_thickgt_SVC_files \u001b[38;5;241m=\u001b[39m \u001b[38;5;28msorted\u001b[39m(Path(train_thickgt_SVC_dir)\u001b[38;5;241m.\u001b[39mglob(\u001b[38;5;124m\"\u001b[39m\u001b[38;5;124m*.tif\u001b[39m\u001b[38;5;124m\"\u001b[39m))\n\u001b[1;32m---> 78\u001b[0m train_SVC_thickgt \u001b[38;5;241m=\u001b[39m [image_safe_read_tif(f,height,width) \u001b[38;5;28;01mfor\u001b[39;00m f \u001b[38;5;129;01min\u001b[39;00m train_thickgt_SVC_files]\n\u001b[0;32m     79\u001b[0m train_ROSE_SVC_thickGt \u001b[38;5;241m=\u001b[39m np\u001b[38;5;241m.\u001b[39mstack(train_SVC_thickgt, axis\u001b[38;5;241m=\u001b[39m\u001b[38;5;241m-\u001b[39m\u001b[38;5;241m1\u001b[39m)\n\u001b[0;32m     80\u001b[0m \u001b[38;5;66;03m# train SVC thin vessel groundtruth\u001b[39;00m\n",
      "File \u001b[1;32m~\\Desktop\\Thesis\\personal-GitHub\\adp-3-human-retina-python\\Phase_1_Segmentation\\data_function_2D\\image_processors.py:49\u001b[0m, in \u001b[0;36mimage_safe_read_tif\u001b[1;34m(p, height, width)\u001b[0m\n\u001b[0;32m     47\u001b[0m \u001b[38;5;66;03m# if it's a binary image, convert it to 8-bit first and return\u001b[39;00m\n\u001b[0;32m     48\u001b[0m \u001b[38;5;28;01mif\u001b[39;00m page\u001b[38;5;241m.\u001b[39mbitspersample \u001b[38;5;241m==\u001b[39m \u001b[38;5;241m1\u001b[39m:\n\u001b[1;32m---> 49\u001b[0m     out_img \u001b[38;5;241m=\u001b[39m read_ccitt_tif(path)\n\u001b[0;32m     50\u001b[0m     \u001b[38;5;28;01mreturn\u001b[39;00m out_img\n\u001b[0;32m     51\u001b[0m \u001b[38;5;28;01melse\u001b[39;00m:\n",
      "File \u001b[1;32m~\\Desktop\\Thesis\\personal-GitHub\\adp-3-human-retina-python\\Phase_1_Segmentation\\data_function_2D\\image_processors.py:59\u001b[0m, in \u001b[0;36mread_ccitt_tif\u001b[1;34m(path)\u001b[0m\n\u001b[0;32m     58\u001b[0m \u001b[38;5;28;01mdef\u001b[39;00m\u001b[38;5;250m \u001b[39m\u001b[38;5;21mread_ccitt_tif\u001b[39m(path):\n\u001b[1;32m---> 59\u001b[0m     \u001b[38;5;28;01mimport\u001b[39;00m\u001b[38;5;250m \u001b[39m\u001b[38;5;21;01mpyvips\u001b[39;00m\n\u001b[0;32m     60\u001b[0m     \u001b[38;5;66;03m# vips decodes CCITT Group3/Group4 reliably\u001b[39;00m\n\u001b[0;32m     61\u001b[0m     im \u001b[38;5;241m=\u001b[39m pyvips\u001b[38;5;241m.\u001b[39mImage\u001b[38;5;241m.\u001b[39mnew_from_file(\u001b[38;5;28mstr\u001b[39m(path), access\u001b[38;5;241m=\u001b[39m\u001b[38;5;124m\"\u001b[39m\u001b[38;5;124msequential\u001b[39m\u001b[38;5;124m\"\u001b[39m)\n",
      "File \u001b[1;32m~\\AppData\\Local\\anaconda3\\Lib\\site-packages\\pyvips\\__init__.py:62\u001b[0m\n\u001b[0;32m     58\u001b[0m \u001b[38;5;28;01mfrom\u001b[39;00m\u001b[38;5;250m \u001b[39m\u001b[38;5;21;01mcffi\u001b[39;00m\u001b[38;5;250m \u001b[39m\u001b[38;5;28;01mimport\u001b[39;00m FFI\n\u001b[0;32m     60\u001b[0m ffi \u001b[38;5;241m=\u001b[39m FFI()\n\u001b[1;32m---> 62\u001b[0m vips_lib \u001b[38;5;241m=\u001b[39m ffi\u001b[38;5;241m.\u001b[39mdlopen(library_name(\u001b[38;5;124m'\u001b[39m\u001b[38;5;124mvips\u001b[39m\u001b[38;5;124m'\u001b[39m, \u001b[38;5;241m42\u001b[39m))\n\u001b[0;32m     63\u001b[0m glib_lib \u001b[38;5;241m=\u001b[39m vips_lib\n\u001b[0;32m     64\u001b[0m gobject_lib \u001b[38;5;241m=\u001b[39m vips_lib\n",
      "File \u001b[1;32m~\\AppData\\Local\\anaconda3\\Lib\\site-packages\\cffi\\api.py:150\u001b[0m, in \u001b[0;36mFFI.dlopen\u001b[1;34m(self, name, flags)\u001b[0m\n\u001b[0;32m    147\u001b[0m     \u001b[38;5;28;01mraise\u001b[39;00m \u001b[38;5;167;01mTypeError\u001b[39;00m(\u001b[38;5;124m\"\u001b[39m\u001b[38;5;124mdlopen(name): name must be a file name, None, \u001b[39m\u001b[38;5;124m\"\u001b[39m\n\u001b[0;32m    148\u001b[0m                     \u001b[38;5;124m\"\u001b[39m\u001b[38;5;124mor an already-opened \u001b[39m\u001b[38;5;124m'\u001b[39m\u001b[38;5;124mvoid *\u001b[39m\u001b[38;5;124m'\u001b[39m\u001b[38;5;124m handle\u001b[39m\u001b[38;5;124m\"\u001b[39m)\n\u001b[0;32m    149\u001b[0m \u001b[38;5;28;01mwith\u001b[39;00m \u001b[38;5;28mself\u001b[39m\u001b[38;5;241m.\u001b[39m_lock:\n\u001b[1;32m--> 150\u001b[0m     lib, function_cache \u001b[38;5;241m=\u001b[39m _make_ffi_library(\u001b[38;5;28mself\u001b[39m, name, flags)\n\u001b[0;32m    151\u001b[0m     \u001b[38;5;28mself\u001b[39m\u001b[38;5;241m.\u001b[39m_function_caches\u001b[38;5;241m.\u001b[39mappend(function_cache)\n\u001b[0;32m    152\u001b[0m     \u001b[38;5;28mself\u001b[39m\u001b[38;5;241m.\u001b[39m_libraries\u001b[38;5;241m.\u001b[39mappend(lib)\n",
      "File \u001b[1;32m~\\AppData\\Local\\anaconda3\\Lib\\site-packages\\cffi\\api.py:834\u001b[0m, in \u001b[0;36m_make_ffi_library\u001b[1;34m(ffi, libname, flags)\u001b[0m\n\u001b[0;32m    832\u001b[0m \u001b[38;5;28;01mdef\u001b[39;00m\u001b[38;5;250m \u001b[39m\u001b[38;5;21m_make_ffi_library\u001b[39m(ffi, libname, flags):\n\u001b[0;32m    833\u001b[0m     backend \u001b[38;5;241m=\u001b[39m ffi\u001b[38;5;241m.\u001b[39m_backend\n\u001b[1;32m--> 834\u001b[0m     backendlib \u001b[38;5;241m=\u001b[39m _load_backend_lib(backend, libname, flags)\n\u001b[0;32m    835\u001b[0m     \u001b[38;5;66;03m#\u001b[39;00m\n\u001b[0;32m    836\u001b[0m     \u001b[38;5;28;01mdef\u001b[39;00m\u001b[38;5;250m \u001b[39m\u001b[38;5;21maccessor_function\u001b[39m(name):\n",
      "File \u001b[1;32m~\\AppData\\Local\\anaconda3\\Lib\\site-packages\\cffi\\api.py:829\u001b[0m, in \u001b[0;36m_load_backend_lib\u001b[1;34m(backend, name, flags)\u001b[0m\n\u001b[0;32m    827\u001b[0m     \u001b[38;5;28;01mif\u001b[39;00m first_error \u001b[38;5;129;01mis\u001b[39;00m \u001b[38;5;129;01mnot\u001b[39;00m \u001b[38;5;28;01mNone\u001b[39;00m:\n\u001b[0;32m    828\u001b[0m         msg \u001b[38;5;241m=\u001b[39m \u001b[38;5;124m\"\u001b[39m\u001b[38;5;132;01m%s\u001b[39;00m\u001b[38;5;124m.  Additionally, \u001b[39m\u001b[38;5;132;01m%s\u001b[39;00m\u001b[38;5;124m\"\u001b[39m \u001b[38;5;241m%\u001b[39m (first_error, msg)\n\u001b[1;32m--> 829\u001b[0m     \u001b[38;5;28;01mraise\u001b[39;00m \u001b[38;5;167;01mOSError\u001b[39;00m(msg)\n\u001b[0;32m    830\u001b[0m \u001b[38;5;28;01mreturn\u001b[39;00m backend\u001b[38;5;241m.\u001b[39mload_library(path, flags)\n",
      "\u001b[1;31mOSError\u001b[0m: cannot load library 'libvips-42.dll': error 0x7e.  Additionally, ctypes.util.find_library() did not manage to locate a library called 'libvips-42.dll'"
     ]
    }
   ],
   "source": [
    "load_rose_1_dataset()"
   ]
  },
  {
   "cell_type": "code",
   "execution_count": 6,
   "id": "ed90be86-be00-4c7e-a782-9864c68b7a96",
   "metadata": {},
   "outputs": [
    {
     "name": "stdout",
     "output_type": "stream",
     "text": [
      "Shape: (304, 304)\n",
      "Dtype: bool\n",
      "Photometric: 0\n",
      "Compression: 2\n",
      "Compression: 2\n",
      "Bits per sample: 1\n",
      "Description: \n"
     ]
    }
   ],
   "source": [
    "from pathlib import Path\n",
    "import imageio.v3 as iio\n",
    "from PIL import Image\n",
    "import numpy as np\n",
    "import tifffile\n",
    "current_code_path = Path().resolve().parent\n",
    "base_dir = current_code_path.parent / 'adp-3-human-retina-python' / 'Phase_1_Segmentation' / 'rose_dataset' / 'ROSE-1'\n",
    "image_parent_dir = base_dir\n",
    "SVC_dir = image_parent_dir / 'SVC' \n",
    "train_img_SVC_dir = SVC_dir / 'train' / 'thick_gt'\n",
    "\n",
    "path = train_img_SVC_dir / '01.tif'\n",
    "path = str(path)\n",
    "with tifffile.TiffFile(path) as tif:\n",
    "    page = tif.pages[0]\n",
    "    print(\"Shape:\", page.shape)\n",
    "    print(\"Dtype:\", page.dtype)\n",
    "    print(\"Photometric:\", page.photometric)\n",
    "    print(\"Compression:\", page.compression)\n",
    "    print(\"Bits per sample:\", page.bitspersample)\n",
    "    print(\"Description:\", page.description)"
   ]
  },
  {
   "cell_type": "code",
   "execution_count": null,
   "id": "97bb2c4a-6309-43f0-975d-7b90b2b11707",
   "metadata": {},
   "outputs": [],
   "source": []
  }
 ],
 "metadata": {
  "kernelspec": {
   "display_name": "Python 3 (ipykernel)",
   "language": "python",
   "name": "python3"
  },
  "language_info": {
   "codemirror_mode": {
    "name": "ipython",
    "version": 3
   },
   "file_extension": ".py",
   "mimetype": "text/x-python",
   "name": "python",
   "nbconvert_exporter": "python",
   "pygments_lexer": "ipython3",
   "version": "3.13.5"
  }
 },
 "nbformat": 4,
 "nbformat_minor": 5
}
